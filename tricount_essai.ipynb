{
 "cells": [
  {
   "cell_type": "code",
   "execution_count": null,
   "id": "8a9ed0ea",
   "metadata": {},
   "outputs": [],
   "source": [
    "\n",
    "friends = input(\"Quel est le prénom? Séparez avec des virgules.\")\n",
    "amount = input(\"Combien chacun à payer? Garder le même ordre et séparez avec des virgules\")\n",
    "\n",
    "list_of_friends = friends.split(\",\")\n",
    "list_of_amounts = amount.split(\",\")\n",
    "\n",
    "while True:\n",
    "    try:\n",
    "        for i, amount in enumerate(list_of_amounts):\n",
    "            list_of_amounts[i] = float(amount)\n",
    "        break\n",
    "    except:\n",
    "        print(\"Ecrivez les montants en chiffres\")\n",
    "        amount = input(\"Combien chacun à payer? Garder le même ordre et séparez avec des virgules\")\n",
    "        list_of_amounts = amount.split(\",\")\n",
    "\n",
    "while len(list_of_friends) != len(list_of_amounts):\n",
    "    print (\"Il faut autant de noms que de montants\")\n",
    "    friends = input(\"Quel est le prénom? Séparez avec des virgules.\")\n",
    "    amount = input(\"Combien chacun à payer? Garder le même ordre et séparez avec des virgules\")\n",
    "\n",
    "    list_of_friends = friends.split(\",\")\n",
    "    list_of_amounts = amount.split(\",\")\n",
    "\n",
    "    while True:\n",
    "        try:\n",
    "            for i, amount in enumerate(list_of_amounts):\n",
    "                list_of_amounts[i] = float(amount)\n",
    "            break\n",
    "        except:\n",
    "            print(\"Ecrivez les montants en chiffres\")\n",
    "            amount = input(\"Combien chacun à payer? Garder le même ordre et séparez avec des virgules\")\n",
    "            list_of_amounts = amount.split(\",\")\n",
    "\n",
    "else:\n",
    "    friends = []\n",
    "    total_spent = 0 # définition du budget avec implémentation à la ligne +3\n",
    "    for friend, amount in zip(list_of_friends, list_of_amounts): \n",
    "        friends.append((friend, amount))\n",
    "        total_spent += float(amount)\n",
    "\n",
    "    for friend, amount in zip(list_of_friends, list_of_amounts): \n",
    "            even_share = total_spent / len(friends)\n",
    "            friend_balance = float(amount) - even_share\n",
    "            if friend_balance < 0:\n",
    "                    print(\"{} doit {:.2f}\".format(friend, -friend_balance))\n",
    "            elif friend_balance > 0:\n",
    "                    print(\"{} doit recevoir {:.2f}\".format(friend, friend_balance))\n",
    "            else :\n",
    "                    print(\"{} ne doit rien recevoir.\".format(friend))\n",
    "    print(\"Le montant total est de {}\".format(total_spent))\n"
   ]
  }
 ],
 "metadata": {
  "kernelspec": {
   "display_name": "base",
   "language": "python",
   "name": "python3"
  },
  "language_info": {
   "codemirror_mode": {
    "name": "ipython",
    "version": 3
   },
   "file_extension": ".py",
   "mimetype": "text/x-python",
   "name": "python",
   "nbconvert_exporter": "python",
   "pygments_lexer": "ipython3",
   "version": "3.13.5"
  }
 },
 "nbformat": 4,
 "nbformat_minor": 5
}
